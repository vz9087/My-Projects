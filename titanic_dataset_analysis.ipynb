{
 "cells": [
  {
   "cell_type": "markdown",
   "id": "30572c4b-91ca-4f7d-807c-02e8d97c502a",
   "metadata": {},
   "source": [
    "# Titanic Dataset Analysis"
   ]
  },
  {
   "cell_type": "code",
   "execution_count": 16,
   "id": "757ad98b-8844-4197-8e29-737f01ee13a0",
   "metadata": {},
   "outputs": [
    {
     "name": "stdout",
     "output_type": "stream",
     "text": [
      "Accuracy: 0.6190476190476191\n"
     ]
    }
   ],
   "source": [
    "#Import necessary libraries for data manipulation and machine learning\n",
    "import pandas as pd\n",
    "import numpy as np\n",
    "\n",
    "from sklearn.model_selection import train_test_split\n",
    "from sklearn.linear_model import LogisticRegression\n",
    "from sklearn.metrics import accuracy_score\n",
    "from sklearn.impute import SimpleImputer\n",
    "from sklearn.pipeline import Pipeline\n",
    "\n",
    "#Load the Titanic dataset from a CSV file\n",
    "titanic_data = pd.read_csv (r'C:\\Users\\Vishal V P\\Downloads\\tested.csv')\n",
    "\n",
    "#Handle missing values in the 'Age'column by filling them with median age\n",
    "titanic_data ['Age'] = titanic_data ['Age'].fillna (titanic_data ['Age'].median ())\n",
    "\n",
    "#Handling missing values in the 'Embarked' column by filling them with the most frequent value (mode)\n",
    "titanic_data ['Embarked'] = titanic_data ['Embarked'].fillna (titanic_data ['Embarked'].mode () [0])\n",
    "\n",
    "#Convert categorical variables into numerical variables by using one-hot encoding\n",
    "titanic_data = pd.get_dummies (titanic_data, columns = ['Sex', 'Embarked'])\n",
    "\n",
    "# Drop the 'Name' column as it is not necessary for modeling\n",
    "titanic_data = titanic_data.drop ('Name', axis = 1)\n",
    "\n",
    "# Drop any other columns that contain string values to ensure all data is numerical\n",
    "titanic_data = titanic_data.select_dtypes (include = ['int64', 'float64'])\n",
    "\n",
    "#Split the data into features (X) and the target variables (Y)\n",
    "X = titanic_data.drop ('Survived', axis = 1)\n",
    "y = titanic_data ['Survived']\n",
    "\n",
    "#Split the data into training and testing sets for model evaluation \n",
    "X_train, X_test, y_train, y_test = train_test_split (X, y, test_size = 0.2, random_state = 42)\n",
    "\n",
    "# Create a pipeline with an imputer and a logistic regression model\n",
    "pipeline = Pipeline([\n",
    "    ('imputer', SimpleImputer (strategy = 'mean')),\n",
    "    ('model', LogisticRegression ())\n",
    "])\n",
    "\n",
    "# Fit the pipeline to the training data\n",
    "pipeline.fit (X_train, y_train)\n",
    "\n",
    "#Use the pipeline to make predictions on the testing data\n",
    "y_pred = pipeline.predict (X_test)\n",
    "\n",
    "# Evaluate the accuracy of the model\n",
    "print ('Accuracy:', accuracy_score (y_test, y_pred))\n"
   ]
  },
  {
   "cell_type": "markdown",
   "id": "f3a33aec-4642-44dd-b113-c14674c2bd1e",
   "metadata": {},
   "source": [
    "Accuracy: 0.6190476190476191"
   ]
  }
 ],
 "metadata": {
  "kernelspec": {
   "display_name": "Python 3 (ipykernel)",
   "language": "python",
   "name": "python3"
  },
  "language_info": {
   "codemirror_mode": {
    "name": "ipython",
    "version": 3
   },
   "file_extension": ".py",
   "mimetype": "text/x-python",
   "name": "python",
   "nbconvert_exporter": "python",
   "pygments_lexer": "ipython3",
   "version": "3.13.5"
  }
 },
 "nbformat": 4,
 "nbformat_minor": 5
}
